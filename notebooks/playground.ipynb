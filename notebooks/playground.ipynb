{
 "cells": [
  {
   "cell_type": "code",
   "execution_count": 1,
   "metadata": {},
   "outputs": [],
   "source": [
    "import os\n",
    "import sys\n",
    "import re\n",
    "import pickle\n",
    "\n",
    "import pandas as pd\n",
    "import numpy as np\n",
    "\n",
    "import torch \n",
    "import torch.nn as nn\n",
    "from torch_geometric.data import Data, Dataset, DataLoader\n",
    "from torch_geometric.datasets import AMiner, Yelp\n",
    "from torch_geometric.utils import negative_sampling, structured_negative_sampling\n",
    "\n",
    "sys.path.insert(0, '../')\n",
    "from datasets import IMDB_ACM_DBLP\n",
    "sys.path.remove('../')"
   ]
  },
  {
   "cell_type": "markdown",
   "metadata": {},
   "source": [
    "# IMDB, DBLP, ACM - from GTN paper"
   ]
  },
  {
   "cell_type": "markdown",
   "metadata": {},
   "source": [
    "12772 nodes, 37288 edges, 4 edge types, 1256 feats, 300:300:2339 train-val-test"
   ]
  },
  {
   "cell_type": "code",
   "execution_count": 8,
   "metadata": {},
   "outputs": [
    {
     "name": "stdout",
     "output_type": "stream",
     "text": [
      "Downloading https://drive.google.com/uc?export=download&id=1qOZ3QjqWMIIvWjzrIdRe3EA4iKzPi6S5\n",
      "Extracting /home/ubuntu/msandal_code/PyG_playground/data/dblp/raw/uc?export=download&id=1qOZ3QjqWMIIvWjzrIdRe3EA4iKzPi6S5\n",
      "Processing...\n",
      "Done!\n"
     ]
    }
   ],
   "source": [
    "ds = IMDB_ACM_DBLP(root='/home/ubuntu/msandal_code/PyG_playground/data/dblp', name='DBLP')"
   ]
  },
  {
   "cell_type": "code",
   "execution_count": 9,
   "metadata": {},
   "outputs": [
    {
     "data": {
      "text/plain": [
       "Data(\n",
       "  edge_index_dict={\n",
       "    ('1', '0')=[2, 19645],\n",
       "    ('0', '1')=[2, 19645],\n",
       "    ('1', '2')=[2, 14328],\n",
       "    ('2', '1')=[2, 14328]\n",
       "  },\n",
       "  node_features=[18405, 334],\n",
       "  node_type_mask=[18405],\n",
       "  test_id_label=[2, 2857],\n",
       "  train_id_label=[2, 800],\n",
       "  valid_id_label=[2, 400]\n",
       ")"
      ]
     },
     "execution_count": 9,
     "metadata": {},
     "output_type": "execute_result"
    }
   ],
   "source": [
    "ds[0]"
   ]
  },
  {
   "cell_type": "code",
   "execution_count": 2,
   "metadata": {},
   "outputs": [],
   "source": [
    "data = dict()\n",
    "for file in os.listdir('../data/acm/raw/'):\n",
    "    with open(os.path.join('../data/acm/raw', file), 'rb') as f:\n",
    "        data[re.sub(\".pkl\", \"\", file)] = pickle.load(f)"
   ]
  },
  {
   "cell_type": "code",
   "execution_count": 8,
   "metadata": {},
   "outputs": [
    {
     "data": {
      "text/plain": [
       "(array([   0,    0,    0, ..., 3024, 3024, 3024]),\n",
       " array([3025, 3026, 3027, ..., 8934, 8935, 8936]))"
      ]
     },
     "execution_count": 8,
     "metadata": {},
     "output_type": "execute_result"
    }
   ],
   "source": [
    "np.nonzero(np.asarray(data['edges'][0].todense()))"
   ]
  },
  {
   "cell_type": "code",
   "execution_count": 11,
   "metadata": {},
   "outputs": [
    {
     "data": {
      "text/plain": [
       "1"
      ]
     },
     "execution_count": 11,
     "metadata": {},
     "output_type": "execute_result"
    }
   ],
   "source": [
    "np.asarray(data['edges'][0].todense())[0,3027]"
   ]
  },
  {
   "cell_type": "code",
   "execution_count": 4,
   "metadata": {},
   "outputs": [
    {
     "name": "stdout",
     "output_type": "stream",
     "text": [
      "<class 'numpy.ndarray'>\n",
      "(8994, 1902)\n"
     ]
    }
   ],
   "source": [
    "print(type(data['node_features']))\n",
    "print(data['node_features'].shape)"
   ]
  },
  {
   "cell_type": "code",
   "execution_count": 5,
   "metadata": {},
   "outputs": [
    {
     "name": "stdout",
     "output_type": "stream",
     "text": [
      "<class 'list'>\n",
      "4\n",
      "<class 'scipy.sparse.csr.csr_matrix'>\n",
      "(8994, 8994)\n",
      "(8994, 8994)\n",
      "(8994, 8994)\n",
      "(8994, 8994)\n"
     ]
    }
   ],
   "source": [
    "print(type(data['edges']))\n",
    "print(len(data['edges']))\n",
    "print(type(data['edges'][0]))\n",
    "for i in range(len(data['edges'])):\n",
    "    print(data['edges'][i].shape)"
   ]
  },
  {
   "cell_type": "code",
   "execution_count": 25,
   "metadata": {},
   "outputs": [
    {
     "name": "stdout",
     "output_type": "stream",
     "text": [
      "3\n",
      "2125\n"
     ]
    },
    {
     "data": {
      "text/plain": [
       "tensor([[ 826, 1823, 1382,  ..., 2480, 2596, 2958],\n",
       "        [   0,    0,    0,  ...,    2,    2,    2]])"
      ]
     },
     "execution_count": 25,
     "metadata": {},
     "output_type": "execute_result"
    }
   ],
   "source": [
    "print(len(data['labels']))\n",
    "print(len(data['labels'][2]))\n",
    "\n",
    "train_idx_label = torch.tensor(np.array(data['labels'][0]).T)\n",
    "train_idx_label"
   ]
  },
  {
   "cell_type": "code",
   "execution_count": 30,
   "metadata": {},
   "outputs": [
    {
     "name": "stdout",
     "output_type": "stream",
     "text": [
      "tups: [(0, 90), (0, 100), (101, 204), (205, 1000)]\n",
      "tups: [(0, 90), (0, 100), (101, 204), (205, 1000)]\n",
      "tups: [(0, 90), (0, 100), (101, 204), (205, 1000)]\n",
      "tups: [(0, 90), (0, 100), (101, 204), (205, 1000)]\n",
      "[(101, 204), (205, 1000), (0, 100)]\n"
     ]
    }
   ],
   "source": [
    "import numpy as np\n",
    "tups = [(0, 90), (0, 100), (101, 204), (205, 1000)]\n",
    "\n",
    "merged = list()\n",
    "finished = False\n",
    "while not finished:\n",
    "    for tup in tups:\n",
    "        print('tups:',tups)\n",
    "        mask = [check_interval_overlap(tup, elem) for elem in tups]\n",
    "        merged.append(merge_tups(list(np.array(tups)[mask])))\n",
    "    merged = list(set(merged))\n",
    "    for tup in merged:\n",
    "        mask = [check_interval_overlap(tup, elem) for elem in merged]\n",
    "        true_counts = len([elem for elem in mask if elem == True])\n",
    "        if true_counts == 1:\n",
    "            finished=True\n",
    "            continue\n",
    "        else:\n",
    "            finished=False\n",
    "            tups=merged\n",
    "            merged=list()\n",
    "            break\n",
    "print(merged)"
   ]
  },
  {
   "cell_type": "code",
   "execution_count": 8,
   "metadata": {},
   "outputs": [],
   "source": [
    "def check_interval_overlap(int1, int2):\n",
    "    cond1 = (int1[0] >= int2[0] and int1[0] <= int2[1])\n",
    "    cond2 = (int1[1] >= int2[0] and int1[1] <= int2[1])\n",
    "    cond3 = (int1[0] <= int2[0] and int1[1] >= int2[1])\n",
    "    return cond1 or cond2 or cond3\n",
    "\n",
    "def merge_tups(tups):\n",
    "    return (min([x[0] for x in tups]), max([x[1] for x in tups]))"
   ]
  },
  {
   "cell_type": "code",
   "execution_count": 18,
   "metadata": {},
   "outputs": [
    {
     "name": "stdout",
     "output_type": "stream",
     "text": [
      "[(3025, 8936, 5912), (0, 3024, 3020), (0, 3024, 3020), (3025, 8936, 5912), (8937, 8993, 57), (0, 3024, 3025), (0, 3024, 3025), (8937, 8993, 57)]\n",
      "[(3025, 8936, 5912), (8937, 8993, 57), (0, 3024, 3025), (0, 3024, 3020)]\n",
      "[(0, 3024), (0, 3024), (3025, 8936), (8937, 8993)]\n"
     ]
    }
   ],
   "source": [
    "num_nodes = data['edges'][1].todense().shape[0]\n",
    "edge_type_ids_dict = dict()\n",
    "tups = list()\n",
    "for edge_type in range(len(data['edges'])):\n",
    "    non_zero_idx1=list()\n",
    "    non_zero_idx2=list()\n",
    "    matrix = np.asarray(data['edges'][edge_type].todense())\n",
    "    for i in range(num_nodes):\n",
    "        local_non0 = np.nonzero(matrix[i])[0]\n",
    "        if local_non0.size > 0:\n",
    "            non_zero_idx2.append(i)\n",
    "        non_zero_idx1 = non_zero_idx1 + local_non0.tolist()\n",
    "    ids1=sorted(list(set(non_zero_idx1)))\n",
    "    ids2=sorted(non_zero_idx2)\n",
    "    edge_type_ids_dict[edge_type] = ((min(ids1), max(ids1), len(ids1)),\n",
    "                                     (min(ids2), max(ids2), len(ids2)))\n",
    "    tups.append((min(ids1), max(ids1), len(ids1)))\n",
    "    tups.append((min(ids2), max(ids2), len(ids2)))\n",
    "tups = list(set(tups))\n",
    "tups = sorted([(elem[0], elem[1]) for elem in list(set(tups))], key=lambda tup: tup[0])\n",
    "\n",
    "print(tups)\n",
    "node_type_mask = list()\n",
    "for i in range(len(tups)):\n",
    "    node_type_mask = node_type_mask + [i]*(tups[i][1]-tups[i][0]+1)\n",
    "node_type_mask = torch.tensor(node_type_mask)"
   ]
  },
  {
   "cell_type": "code",
   "execution_count": 16,
   "metadata": {},
   "outputs": [
    {
     "data": {
      "text/plain": [
       "8994"
      ]
     },
     "execution_count": 16,
     "metadata": {},
     "output_type": "execute_result"
    }
   ],
   "source": [
    "num_nodes"
   ]
  },
  {
   "cell_type": "code",
   "execution_count": 15,
   "metadata": {},
   "outputs": [
    {
     "data": {
      "text/plain": [
       "torch.Size([12019])"
      ]
     },
     "execution_count": 15,
     "metadata": {},
     "output_type": "execute_result"
    }
   ],
   "source": [
    "node_type_mask.shape"
   ]
  },
  {
   "cell_type": "markdown",
   "metadata": {},
   "source": [
    "# Creating a PyG Dataset from DBLP extract from MAGNN paper"
   ]
  },
  {
   "cell_type": "code",
   "execution_count": 12,
   "metadata": {},
   "outputs": [],
   "source": [
    "# import numpy as np\n",
    "# from scipy.sparse import csr_matrix\n",
    "# labeled_authors = [1, 10, 2, 4, 15]\n",
    "# feats = [[1,2], [3,1], [5,4], [0,6], [10, 5]]\n",
    "# feats = [np.array(feat) for feat in feats]\n",
    "# lol = np.array(list(zip(*sorted(zip(labeled_authors, feats), key=lambda tup: tup[0])))[1])\n",
    "# print(lol)\n",
    "# sm = csr_matrix(lol)"
   ]
  },
  {
   "cell_type": "code",
   "execution_count": 13,
   "metadata": {
    "scrolled": true
   },
   "outputs": [],
   "source": [
    "dataset=DBLP_MAGNN(root=\"/home/ubuntu/msandal_code/PyG_playground/dblp\", use_MAGNN_init_feats=True)"
   ]
  },
  {
   "cell_type": "code",
   "execution_count": 14,
   "metadata": {},
   "outputs": [
    {
     "data": {
      "text/plain": [
       "50"
      ]
     },
     "execution_count": 14,
     "metadata": {},
     "output_type": "execute_result"
    }
   ],
   "source": [
    "dataset[0].initial_embeddings['term'][1][1].size"
   ]
  },
  {
   "cell_type": "code",
   "execution_count": 4,
   "metadata": {},
   "outputs": [
    {
     "name": "stdout",
     "output_type": "stream",
     "text": [
      "dict_keys(['author', 'paper', 'term', 'conf'])\n"
     ]
    },
    {
     "data": {
      "text/html": [
       "<div>\n",
       "<style scoped>\n",
       "    .dataframe tbody tr th:only-of-type {\n",
       "        vertical-align: middle;\n",
       "    }\n",
       "\n",
       "    .dataframe tbody tr th {\n",
       "        vertical-align: top;\n",
       "    }\n",
       "\n",
       "    .dataframe thead th {\n",
       "        text-align: right;\n",
       "    }\n",
       "</style>\n",
       "<table border=\"1\" class=\"dataframe\">\n",
       "  <thead>\n",
       "    <tr style=\"text-align: right;\">\n",
       "      <th></th>\n",
       "      <th>author_id</th>\n",
       "      <th>author_name</th>\n",
       "    </tr>\n",
       "  </thead>\n",
       "  <tbody>\n",
       "    <tr>\n",
       "      <th>0</th>\n",
       "      <td>192</td>\n",
       "      <td>David Hogg</td>\n",
       "    </tr>\n",
       "    <tr>\n",
       "      <th>1</th>\n",
       "      <td>226</td>\n",
       "      <td>Martial Hebert</td>\n",
       "    </tr>\n",
       "    <tr>\n",
       "      <th>2</th>\n",
       "      <td>234</td>\n",
       "      <td>Gady Agam</td>\n",
       "    </tr>\n",
       "    <tr>\n",
       "      <th>3</th>\n",
       "      <td>435</td>\n",
       "      <td>Takeo Kanade</td>\n",
       "    </tr>\n",
       "    <tr>\n",
       "      <th>4</th>\n",
       "      <td>444</td>\n",
       "      <td>Hong Zhang</td>\n",
       "    </tr>\n",
       "  </tbody>\n",
       "</table>\n",
       "</div>"
      ],
      "text/plain": [
       "   author_id     author_name\n",
       "0        192      David Hogg\n",
       "1        226  Martial Hebert\n",
       "2        234       Gady Agam\n",
       "3        435    Takeo Kanade\n",
       "4        444      Hong Zhang"
      ]
     },
     "execution_count": 4,
     "metadata": {},
     "output_type": "execute_result"
    }
   ],
   "source": [
    "print(dataset[0].node_id_bag_of_words.keys())\n",
    "dataset[0].node_id_bag_of_words['author'].head()"
   ]
  },
  {
   "cell_type": "code",
   "execution_count": 5,
   "metadata": {},
   "outputs": [
    {
     "name": "stdout",
     "output_type": "stream",
     "text": [
      "dict_keys([('paper', 'author'), ('paper', 'term'), ('paper', 'conf')])\n"
     ]
    },
    {
     "data": {
      "text/html": [
       "<div>\n",
       "<style scoped>\n",
       "    .dataframe tbody tr th:only-of-type {\n",
       "        vertical-align: middle;\n",
       "    }\n",
       "\n",
       "    .dataframe tbody tr th {\n",
       "        vertical-align: top;\n",
       "    }\n",
       "\n",
       "    .dataframe thead th {\n",
       "        text-align: right;\n",
       "    }\n",
       "</style>\n",
       "<table border=\"1\" class=\"dataframe\">\n",
       "  <thead>\n",
       "    <tr style=\"text-align: right;\">\n",
       "      <th></th>\n",
       "      <th>paper_id</th>\n",
       "      <th>author_id</th>\n",
       "    </tr>\n",
       "  </thead>\n",
       "  <tbody>\n",
       "    <tr>\n",
       "      <th>0</th>\n",
       "      <td>7601</td>\n",
       "      <td>15135</td>\n",
       "    </tr>\n",
       "    <tr>\n",
       "      <th>1</th>\n",
       "      <td>7604</td>\n",
       "      <td>15138</td>\n",
       "    </tr>\n",
       "    <tr>\n",
       "      <th>2</th>\n",
       "      <td>7605</td>\n",
       "      <td>15138</td>\n",
       "    </tr>\n",
       "    <tr>\n",
       "      <th>3</th>\n",
       "      <td>7605</td>\n",
       "      <td>15142</td>\n",
       "    </tr>\n",
       "    <tr>\n",
       "      <th>4</th>\n",
       "      <td>7610</td>\n",
       "      <td>15151</td>\n",
       "    </tr>\n",
       "  </tbody>\n",
       "</table>\n",
       "</div>"
      ],
      "text/plain": [
       "   paper_id  author_id\n",
       "0      7601      15135\n",
       "1      7604      15138\n",
       "2      7605      15138\n",
       "3      7605      15142\n",
       "4      7610      15151"
      ]
     },
     "execution_count": 5,
     "metadata": {},
     "output_type": "execute_result"
    }
   ],
   "source": [
    "print(dataset[0].edge_index_dict.keys())\n",
    "dataset[0].edge_index_dict[('paper', 'author')].head()"
   ]
  },
  {
   "cell_type": "code",
   "execution_count": 6,
   "metadata": {},
   "outputs": [
    {
     "data": {
      "text/html": [
       "<div>\n",
       "<style scoped>\n",
       "    .dataframe tbody tr th:only-of-type {\n",
       "        vertical-align: middle;\n",
       "    }\n",
       "\n",
       "    .dataframe tbody tr th {\n",
       "        vertical-align: top;\n",
       "    }\n",
       "\n",
       "    .dataframe thead th {\n",
       "        text-align: right;\n",
       "    }\n",
       "</style>\n",
       "<table border=\"1\" class=\"dataframe\">\n",
       "  <thead>\n",
       "    <tr style=\"text-align: right;\">\n",
       "      <th></th>\n",
       "      <th>author_id</th>\n",
       "      <th>label</th>\n",
       "    </tr>\n",
       "  </thead>\n",
       "  <tbody>\n",
       "    <tr>\n",
       "      <th>0</th>\n",
       "      <td>192</td>\n",
       "      <td>2</td>\n",
       "    </tr>\n",
       "    <tr>\n",
       "      <th>1</th>\n",
       "      <td>226</td>\n",
       "      <td>2</td>\n",
       "    </tr>\n",
       "    <tr>\n",
       "      <th>2</th>\n",
       "      <td>234</td>\n",
       "      <td>3</td>\n",
       "    </tr>\n",
       "    <tr>\n",
       "      <th>3</th>\n",
       "      <td>435</td>\n",
       "      <td>2</td>\n",
       "    </tr>\n",
       "    <tr>\n",
       "      <th>4</th>\n",
       "      <td>444</td>\n",
       "      <td>1</td>\n",
       "    </tr>\n",
       "  </tbody>\n",
       "</table>\n",
       "</div>"
      ],
      "text/plain": [
       "   author_id  label\n",
       "0        192      2\n",
       "1        226      2\n",
       "2        234      3\n",
       "3        435      2\n",
       "4        444      1"
      ]
     },
     "execution_count": 6,
     "metadata": {},
     "output_type": "execute_result"
    }
   ],
   "source": [
    "dataset[0].id_label['author'].head()"
   ]
  },
  {
   "cell_type": "code",
   "execution_count": null,
   "metadata": {},
   "outputs": [],
   "source": []
  },
  {
   "cell_type": "code",
   "execution_count": 18,
   "metadata": {},
   "outputs": [
    {
     "data": {
      "text/plain": [
       "array([ 1.2031   , -0.40028  ,  0.073991 ,  1.0415   ,  0.051753 ,\n",
       "        0.41166  , -0.98656  , -0.79466  ,  0.36033  ,  0.54428  ,\n",
       "        0.29395  ,  0.5747   , -0.5576   , -0.61278  , -0.087423 ,\n",
       "        0.5456   , -0.22013  , -0.0081278, -0.58155  , -0.016229 ,\n",
       "        1.1811   , -0.42891  , -1.0388   , -0.87459  , -0.96912  ,\n",
       "       -0.66649  , -0.23569  , -0.40309  ,  0.36778  , -0.031145 ,\n",
       "        2.1525   ,  0.014425 ,  0.064602 , -0.011762 ,  0.17265  ,\n",
       "       -0.89641  , -0.7655   ,  0.16825  ,  0.04137  , -0.71456  ,\n",
       "        0.38339  , -0.57219  , -0.16915  ,  0.13984  , -0.7743   ,\n",
       "       -0.061819 ,  0.21887  ,  1.3262   , -0.33245  ,  0.8198   ])"
      ]
     },
     "execution_count": 18,
     "metadata": {},
     "output_type": "execute_result"
    }
   ],
   "source": [
    "dataset[0].initial_embeddings['term'][1][1]"
   ]
  },
  {
   "cell_type": "markdown",
   "metadata": {},
   "source": [
    "# Playing with built-in AMiner dataset\n",
    "\n",
    "because apparently it is the only built-in heterogeneous graph in PyG. Oh, life."
   ]
  },
  {
   "cell_type": "code",
   "execution_count": 2,
   "metadata": {},
   "outputs": [
    {
     "name": "stdout",
     "output_type": "stream",
     "text": [
      "#graphs : 1\n"
     ]
    }
   ],
   "source": [
    "aminer = AMiner(root=\"/home/ubuntu/msandal_code/PyG_playground/aminer_pyg\")\n",
    "print(\"#graphs : \" + str(len(aminer)))"
   ]
  },
  {
   "cell_type": "code",
   "execution_count": 3,
   "metadata": {},
   "outputs": [
    {
     "data": {
      "text/plain": [
       "Data(\n",
       "  edge_index_dict={\n",
       "    ('paper', 'written by', 'author')=[2, 9323605],\n",
       "    ('author', 'wrote', 'paper')=[2, 9323605],\n",
       "    ('paper', 'published in', 'venue')=[2, 3194405],\n",
       "    ('venue', 'published', 'paper')=[2, 3194405]\n",
       "  },\n",
       "  num_nodes_dict={\n",
       "    paper=3194405,\n",
       "    author=1693531,\n",
       "    venue=3883\n",
       "  },\n",
       "  y_dict={\n",
       "    author=[246678],\n",
       "    venue=[134]\n",
       "  },\n",
       "  y_index_dict={\n",
       "    author=[246678],\n",
       "    venue=[134]\n",
       "  }\n",
       ")"
      ]
     },
     "execution_count": 3,
     "metadata": {},
     "output_type": "execute_result"
    }
   ],
   "source": [
    "graph = aminer[0]\n",
    "graph"
   ]
  },
  {
   "cell_type": "markdown",
   "metadata": {},
   "source": [
    "It is worth noting here that this structure is no standard in PyG :) But then again, its heterogeneous, so what did I expect..."
   ]
  },
  {
   "cell_type": "code",
   "execution_count": 4,
   "metadata": {},
   "outputs": [
    {
     "data": {
      "text/plain": [
       "tensor([[      0,       0,       0,  ..., 1693528, 1693529, 1693530],\n",
       "        [      0,   45988,  124807,  ..., 3194371, 3194387, 3194389]])"
      ]
     },
     "execution_count": 4,
     "metadata": {},
     "output_type": "execute_result"
    }
   ],
   "source": [
    "graph.edge_index_dict[('author', 'wrote', 'paper')]"
   ]
  },
  {
   "cell_type": "code",
   "execution_count": 5,
   "metadata": {},
   "outputs": [
    {
     "data": {
      "text/plain": [
       "(tensor([      0,       0,       0,  ..., 1693528, 1693529, 1693530]),\n",
       " tensor([      0,   45988,  124807,  ..., 3194371, 3194387, 3194389]),\n",
       " tensor([ 328474, 1564601, 1994989,  ...,  492042, 2681395, 2529168]))"
      ]
     },
     "execution_count": 5,
     "metadata": {},
     "output_type": "execute_result"
    }
   ],
   "source": [
    "negative_author_paper = structured_negative_sampling(graph.edge_index_dict[('author', 'wrote', 'paper')],\n",
    "                                                     num_nodes = graph.num_nodes_dict['paper'])\n",
    "negative_author_paper"
   ]
  },
  {
   "cell_type": "markdown",
   "metadata": {},
   "source": [
    "!!The function is unaware that the nodes are of different types!! But I don't really think it is an issue..."
   ]
  }
 ],
 "metadata": {
  "kernelspec": {
   "display_name": "Python 3",
   "language": "python",
   "name": "python3"
  },
  "language_info": {
   "codemirror_mode": {
    "name": "ipython",
    "version": 3
   },
   "file_extension": ".py",
   "mimetype": "text/x-python",
   "name": "python",
   "nbconvert_exporter": "python",
   "pygments_lexer": "ipython3",
   "version": "3.7.6"
  }
 },
 "nbformat": 4,
 "nbformat_minor": 4
}
