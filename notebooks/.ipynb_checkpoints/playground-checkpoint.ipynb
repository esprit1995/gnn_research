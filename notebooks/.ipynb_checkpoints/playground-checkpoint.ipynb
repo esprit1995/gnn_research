{
 "cells": [
  {
   "cell_type": "code",
   "execution_count": 2,
   "metadata": {},
   "outputs": [],
   "source": [
    "import os\n",
    "import sys\n",
    "\n",
    "import pandas as pd\n",
    "import numpy as np\n",
    "\n",
    "import torch \n",
    "import torch.nn as nn\n",
    "from torch_geometric.data import Data, Dataset, DataLoader\n",
    "from torch_geometric.datasets import AMiner, Yelp\n",
    "from torch_geometric.utils import negative_sampling, structured_negative_sampling\n",
    "\n"
   ]
  },
  {
   "cell_type": "markdown",
   "metadata": {},
   "source": [
    "# NSHE DBLP: do the labels actually correspond?"
   ]
  },
  {
   "cell_type": "code",
   "execution_count": 3,
   "metadata": {},
   "outputs": [
    {
     "data": {
      "text/plain": [
       "['.ipynb_checkpoints', 'playground.ipynb']"
      ]
     },
     "execution_count": 3,
     "metadata": {},
     "output_type": "execute_result"
    }
   ],
   "source": [
    "os.listdir(os.getcwd())"
   ]
  },
  {
   "cell_type": "code",
   "execution_count": 5,
   "metadata": {},
   "outputs": [
    {
     "name": "stderr",
     "output_type": "stream",
     "text": [
      "Using backend: pytorch\n"
     ]
    }
   ],
   "source": [
    "sys.path.insert(0, '../')\n",
    "from datasets import DBLP_ACM_from_NSHE"
   ]
  },
  {
   "cell_type": "code",
   "execution_count": 6,
   "metadata": {},
   "outputs": [],
   "source": [
    "ds = DBLP_ACM_from_NSHE(root='/home/ubuntu/msandal_code/PyG_playground/data/NSHE', name='dblp')[0]"
   ]
  },
  {
   "cell_type": "code",
   "execution_count": 7,
   "metadata": {},
   "outputs": [
    {
     "data": {
      "text/plain": [
       "Data(\n",
       "  edge_index_dict={\n",
       "    ('0', '1')=[2, 18304],\n",
       "    ('1', '0')=[2, 18304],\n",
       "    ('1', '2')=[2, 9556],\n",
       "    ('2', '1')=[2, 9556]\n",
       "  },\n",
       "  node_features=[11576, 128],\n",
       "  node_id_node_label=[2, 1263],\n",
       "  node_type_mask=[11576]\n",
       ")"
      ]
     },
     "execution_count": 7,
     "metadata": {},
     "output_type": "execute_result"
    }
   ],
   "source": [
    "ds # 0=author, 1=paper, 2=conference"
   ]
  },
  {
   "cell_type": "code",
   "execution_count": 10,
   "metadata": {},
   "outputs": [
    {
     "data": {
      "text/plain": [
       "tensor([11260, 10002, 11442,  8954,  2860,  8174,  5854,  7202, 10412,  5367,\n",
       "         4761,  8152,  6876,  5244,  3437,  9703,  7388,  6395,  3059,  6388,\n",
       "         5682,  9466,  8738,  4977,  4751,  5908,  5924,  8216, 11405,  4143,\n",
       "        11232,  8440,  3615, 11088, 11233,  2518, 10221,  5489,  8741,  6465,\n",
       "         3483,  2746,  5736,  9933,  9523,  2191, 11234, 11251, 10846,  7336,\n",
       "         4718,  6575,  6507,  3469,  7208,  8165,  2066,  5902,  2722,  5002,\n",
       "         3279,  4750,  4009, 10195,  4907,  4942,  9521,  4141,  8935,  3349,\n",
       "         9158,  9899, 10099,  2283,  7353,  4905,  6380,  6638,  8100,  7570,\n",
       "         5279,  9702, 10464, 11163,  5812,  4206,  3492,  7012,  9154, 10665,\n",
       "         6319,  2733,  8655,  3861,  3311, 11453,  9541,  9706,  7357,  2147,\n",
       "         7848,  3888,  4984,  3408])"
      ]
     },
     "execution_count": 10,
     "metadata": {},
     "output_type": "execute_result"
    }
   ],
   "source": [
    "ds['node_id_node_label'][0][:104]"
   ]
  },
  {
   "cell_type": "code",
   "execution_count": 21,
   "metadata": {},
   "outputs": [
    {
     "name": "stdout",
     "output_type": "stream",
     "text": [
      "(104, 2)\n",
      "     paper   conf\n",
      "4     5736  11562\n",
      "11    8100  11565\n",
      "103   2518  11571\n",
      "111   2191  11572\n",
      "198   3483  11569\n",
      "19\n"
     ]
    }
   ],
   "source": [
    "# have to label conferences, idea: propagate labels from papers\n",
    "# this version of DBLP has 104 labeled papers which go first in the 'node_id_node_label' attribute\n",
    "paper_label = [ds['node_id_node_label'][0][:104].tolist(),\n",
    "               ds['node_id_node_label'][1][:104].tolist()]\n",
    "paper_conf = pd.DataFrame(data=ds['edge_index_dict'][('1', '2')].numpy().T, \n",
    "                          columns=['paper', 'conf'])\n",
    "paper_conf = paper_conf[paper_conf['paper'].isin(paper_label[0])]\n",
    "print(paper_conf.shape)\n",
    "print(paper_conf.head())\n",
    "print(paper_conf.conf.nunique())"
   ]
  },
  {
   "cell_type": "markdown",
   "metadata": {},
   "source": [
    "Fuck. 1 conference will be without label. Well, we'll do what we can, eh?"
   ]
  },
  {
   "cell_type": "code",
   "execution_count": 22,
   "metadata": {},
   "outputs": [
    {
     "data": {
      "text/html": [
       "<div>\n",
       "<style scoped>\n",
       "    .dataframe tbody tr th:only-of-type {\n",
       "        vertical-align: middle;\n",
       "    }\n",
       "\n",
       "    .dataframe tbody tr th {\n",
       "        vertical-align: top;\n",
       "    }\n",
       "\n",
       "    .dataframe thead th {\n",
       "        text-align: right;\n",
       "    }\n",
       "</style>\n",
       "<table border=\"1\" class=\"dataframe\">\n",
       "  <thead>\n",
       "    <tr style=\"text-align: right;\">\n",
       "      <th></th>\n",
       "      <th>paper_id</th>\n",
       "      <th>paper_label</th>\n",
       "    </tr>\n",
       "  </thead>\n",
       "  <tbody>\n",
       "    <tr>\n",
       "      <th>0</th>\n",
       "      <td>11260</td>\n",
       "      <td>0</td>\n",
       "    </tr>\n",
       "    <tr>\n",
       "      <th>1</th>\n",
       "      <td>10002</td>\n",
       "      <td>0</td>\n",
       "    </tr>\n",
       "  </tbody>\n",
       "</table>\n",
       "</div>"
      ],
      "text/plain": [
       "   paper_id  paper_label\n",
       "0     11260            0\n",
       "1     10002            0"
      ]
     },
     "execution_count": 22,
     "metadata": {},
     "output_type": "execute_result"
    }
   ],
   "source": [
    "paper_label = pd.DataFrame(data=np.array(paper_label).T, columns=['paper_id', 'paper_label'])\n",
    "paper_label.head(2)"
   ]
  },
  {
   "cell_type": "code",
   "execution_count": 23,
   "metadata": {},
   "outputs": [
    {
     "name": "stdout",
     "output_type": "stream",
     "text": [
      "   paper   conf  paper_id  paper_label\n",
      "0   5736  11562      5736            1\n",
      "1   8100  11565      8100            2\n",
      "2   2518  11571      2518            2\n",
      "3   2191  11572      2191            1\n",
      "4   3483  11569      3483            0\n"
     ]
    }
   ],
   "source": [
    "paper_conf = paper_conf.merge(paper_label, how='inner', left_on='paper', right_on='paper_id')\n",
    "print(paper_conf.head())"
   ]
  },
  {
   "cell_type": "code",
   "execution_count": 26,
   "metadata": {},
   "outputs": [
    {
     "name": "stdout",
     "output_type": "stream",
     "text": [
      "    conf_id  conf_label\n",
      "0     11562           1\n",
      "1     11565           2\n",
      "2     11571           2\n",
      "3     11572           1\n",
      "4     11569           0\n",
      "5     11562           2\n",
      "6     11557           2\n",
      "7     11570           0\n",
      "8     11568           3\n",
      "9     11568           0\n",
      "10    11561           2\n",
      "11    11566           1\n",
      "12    11564           3\n",
      "13    11567           0\n",
      "14    11556           3\n",
      "15    11560           0\n",
      "16    11573           0\n",
      "17    11574           2\n",
      "18    11561           3\n",
      "19    11563           1\n",
      "20    11558           3\n",
      "21    11570           2\n",
      "22    11559           3\n"
     ]
    }
   ],
   "source": [
    "conf_label = paper_conf[['conf', 'paper_label']].drop_duplicates().reset_index(drop=True)\n",
    "conf_label.columns = ['conf_id', 'conf_label']\n",
    "print(conf_label)"
   ]
  },
  {
   "cell_type": "code",
   "execution_count": 27,
   "metadata": {},
   "outputs": [
    {
     "data": {
      "text/html": [
       "<div>\n",
       "<style scoped>\n",
       "    .dataframe tbody tr th:only-of-type {\n",
       "        vertical-align: middle;\n",
       "    }\n",
       "\n",
       "    .dataframe tbody tr th {\n",
       "        vertical-align: top;\n",
       "    }\n",
       "\n",
       "    .dataframe thead th {\n",
       "        text-align: right;\n",
       "    }\n",
       "</style>\n",
       "<table border=\"1\" class=\"dataframe\">\n",
       "  <thead>\n",
       "    <tr style=\"text-align: right;\">\n",
       "      <th></th>\n",
       "      <th>conf_label</th>\n",
       "    </tr>\n",
       "    <tr>\n",
       "      <th>conf_id</th>\n",
       "      <th></th>\n",
       "    </tr>\n",
       "  </thead>\n",
       "  <tbody>\n",
       "    <tr>\n",
       "      <th>11556</th>\n",
       "      <td>[3]</td>\n",
       "    </tr>\n",
       "    <tr>\n",
       "      <th>11557</th>\n",
       "      <td>[2]</td>\n",
       "    </tr>\n",
       "    <tr>\n",
       "      <th>11558</th>\n",
       "      <td>[3]</td>\n",
       "    </tr>\n",
       "    <tr>\n",
       "      <th>11559</th>\n",
       "      <td>[3]</td>\n",
       "    </tr>\n",
       "    <tr>\n",
       "      <th>11560</th>\n",
       "      <td>[0]</td>\n",
       "    </tr>\n",
       "    <tr>\n",
       "      <th>11561</th>\n",
       "      <td>[2, 3]</td>\n",
       "    </tr>\n",
       "    <tr>\n",
       "      <th>11562</th>\n",
       "      <td>[1, 2]</td>\n",
       "    </tr>\n",
       "    <tr>\n",
       "      <th>11563</th>\n",
       "      <td>[1]</td>\n",
       "    </tr>\n",
       "    <tr>\n",
       "      <th>11564</th>\n",
       "      <td>[3]</td>\n",
       "    </tr>\n",
       "    <tr>\n",
       "      <th>11565</th>\n",
       "      <td>[2]</td>\n",
       "    </tr>\n",
       "    <tr>\n",
       "      <th>11566</th>\n",
       "      <td>[1]</td>\n",
       "    </tr>\n",
       "    <tr>\n",
       "      <th>11567</th>\n",
       "      <td>[0]</td>\n",
       "    </tr>\n",
       "    <tr>\n",
       "      <th>11568</th>\n",
       "      <td>[3, 0]</td>\n",
       "    </tr>\n",
       "    <tr>\n",
       "      <th>11569</th>\n",
       "      <td>[0]</td>\n",
       "    </tr>\n",
       "    <tr>\n",
       "      <th>11570</th>\n",
       "      <td>[0, 2]</td>\n",
       "    </tr>\n",
       "    <tr>\n",
       "      <th>11571</th>\n",
       "      <td>[2]</td>\n",
       "    </tr>\n",
       "    <tr>\n",
       "      <th>11572</th>\n",
       "      <td>[1]</td>\n",
       "    </tr>\n",
       "    <tr>\n",
       "      <th>11573</th>\n",
       "      <td>[0]</td>\n",
       "    </tr>\n",
       "    <tr>\n",
       "      <th>11574</th>\n",
       "      <td>[2]</td>\n",
       "    </tr>\n",
       "  </tbody>\n",
       "</table>\n",
       "</div>"
      ],
      "text/plain": [
       "        conf_label\n",
       "conf_id           \n",
       "11556          [3]\n",
       "11557          [2]\n",
       "11558          [3]\n",
       "11559          [3]\n",
       "11560          [0]\n",
       "11561       [2, 3]\n",
       "11562       [1, 2]\n",
       "11563          [1]\n",
       "11564          [3]\n",
       "11565          [2]\n",
       "11566          [1]\n",
       "11567          [0]\n",
       "11568       [3, 0]\n",
       "11569          [0]\n",
       "11570       [0, 2]\n",
       "11571          [2]\n",
       "11572          [1]\n",
       "11573          [0]\n",
       "11574          [2]"
      ]
     },
     "execution_count": 27,
     "metadata": {},
     "output_type": "execute_result"
    }
   ],
   "source": [
    "conf_label.groupby(['conf_id']).agg({'conf_label': list})"
   ]
  },
  {
   "cell_type": "markdown",
   "metadata": {},
   "source": [
    "# Creating a PyG Dataset from DBLP extract from MAGNN paper"
   ]
  },
  {
   "cell_type": "code",
   "execution_count": 12,
   "metadata": {},
   "outputs": [],
   "source": [
    "# import numpy as np\n",
    "# from scipy.sparse import csr_matrix\n",
    "# labeled_authors = [1, 10, 2, 4, 15]\n",
    "# feats = [[1,2], [3,1], [5,4], [0,6], [10, 5]]\n",
    "# feats = [np.array(feat) for feat in feats]\n",
    "# lol = np.array(list(zip(*sorted(zip(labeled_authors, feats), key=lambda tup: tup[0])))[1])\n",
    "# print(lol)\n",
    "# sm = csr_matrix(lol)"
   ]
  },
  {
   "cell_type": "code",
   "execution_count": 13,
   "metadata": {
    "scrolled": true
   },
   "outputs": [],
   "source": [
    "dataset=DBLP_MAGNN(root=\"/home/ubuntu/msandal_code/PyG_playground/dblp\", use_MAGNN_init_feats=True)"
   ]
  },
  {
   "cell_type": "code",
   "execution_count": 14,
   "metadata": {},
   "outputs": [
    {
     "data": {
      "text/plain": [
       "50"
      ]
     },
     "execution_count": 14,
     "metadata": {},
     "output_type": "execute_result"
    }
   ],
   "source": [
    "dataset[0].initial_embeddings['term'][1][1].size"
   ]
  },
  {
   "cell_type": "code",
   "execution_count": 4,
   "metadata": {},
   "outputs": [
    {
     "name": "stdout",
     "output_type": "stream",
     "text": [
      "dict_keys(['author', 'paper', 'term', 'conf'])\n"
     ]
    },
    {
     "data": {
      "text/html": [
       "<div>\n",
       "<style scoped>\n",
       "    .dataframe tbody tr th:only-of-type {\n",
       "        vertical-align: middle;\n",
       "    }\n",
       "\n",
       "    .dataframe tbody tr th {\n",
       "        vertical-align: top;\n",
       "    }\n",
       "\n",
       "    .dataframe thead th {\n",
       "        text-align: right;\n",
       "    }\n",
       "</style>\n",
       "<table border=\"1\" class=\"dataframe\">\n",
       "  <thead>\n",
       "    <tr style=\"text-align: right;\">\n",
       "      <th></th>\n",
       "      <th>author_id</th>\n",
       "      <th>author_name</th>\n",
       "    </tr>\n",
       "  </thead>\n",
       "  <tbody>\n",
       "    <tr>\n",
       "      <th>0</th>\n",
       "      <td>192</td>\n",
       "      <td>David Hogg</td>\n",
       "    </tr>\n",
       "    <tr>\n",
       "      <th>1</th>\n",
       "      <td>226</td>\n",
       "      <td>Martial Hebert</td>\n",
       "    </tr>\n",
       "    <tr>\n",
       "      <th>2</th>\n",
       "      <td>234</td>\n",
       "      <td>Gady Agam</td>\n",
       "    </tr>\n",
       "    <tr>\n",
       "      <th>3</th>\n",
       "      <td>435</td>\n",
       "      <td>Takeo Kanade</td>\n",
       "    </tr>\n",
       "    <tr>\n",
       "      <th>4</th>\n",
       "      <td>444</td>\n",
       "      <td>Hong Zhang</td>\n",
       "    </tr>\n",
       "  </tbody>\n",
       "</table>\n",
       "</div>"
      ],
      "text/plain": [
       "   author_id     author_name\n",
       "0        192      David Hogg\n",
       "1        226  Martial Hebert\n",
       "2        234       Gady Agam\n",
       "3        435    Takeo Kanade\n",
       "4        444      Hong Zhang"
      ]
     },
     "execution_count": 4,
     "metadata": {},
     "output_type": "execute_result"
    }
   ],
   "source": [
    "print(dataset[0].node_id_bag_of_words.keys())\n",
    "dataset[0].node_id_bag_of_words['author'].head()"
   ]
  },
  {
   "cell_type": "code",
   "execution_count": 5,
   "metadata": {},
   "outputs": [
    {
     "name": "stdout",
     "output_type": "stream",
     "text": [
      "dict_keys([('paper', 'author'), ('paper', 'term'), ('paper', 'conf')])\n"
     ]
    },
    {
     "data": {
      "text/html": [
       "<div>\n",
       "<style scoped>\n",
       "    .dataframe tbody tr th:only-of-type {\n",
       "        vertical-align: middle;\n",
       "    }\n",
       "\n",
       "    .dataframe tbody tr th {\n",
       "        vertical-align: top;\n",
       "    }\n",
       "\n",
       "    .dataframe thead th {\n",
       "        text-align: right;\n",
       "    }\n",
       "</style>\n",
       "<table border=\"1\" class=\"dataframe\">\n",
       "  <thead>\n",
       "    <tr style=\"text-align: right;\">\n",
       "      <th></th>\n",
       "      <th>paper_id</th>\n",
       "      <th>author_id</th>\n",
       "    </tr>\n",
       "  </thead>\n",
       "  <tbody>\n",
       "    <tr>\n",
       "      <th>0</th>\n",
       "      <td>7601</td>\n",
       "      <td>15135</td>\n",
       "    </tr>\n",
       "    <tr>\n",
       "      <th>1</th>\n",
       "      <td>7604</td>\n",
       "      <td>15138</td>\n",
       "    </tr>\n",
       "    <tr>\n",
       "      <th>2</th>\n",
       "      <td>7605</td>\n",
       "      <td>15138</td>\n",
       "    </tr>\n",
       "    <tr>\n",
       "      <th>3</th>\n",
       "      <td>7605</td>\n",
       "      <td>15142</td>\n",
       "    </tr>\n",
       "    <tr>\n",
       "      <th>4</th>\n",
       "      <td>7610</td>\n",
       "      <td>15151</td>\n",
       "    </tr>\n",
       "  </tbody>\n",
       "</table>\n",
       "</div>"
      ],
      "text/plain": [
       "   paper_id  author_id\n",
       "0      7601      15135\n",
       "1      7604      15138\n",
       "2      7605      15138\n",
       "3      7605      15142\n",
       "4      7610      15151"
      ]
     },
     "execution_count": 5,
     "metadata": {},
     "output_type": "execute_result"
    }
   ],
   "source": [
    "print(dataset[0].edge_index_dict.keys())\n",
    "dataset[0].edge_index_dict[('paper', 'author')].head()"
   ]
  },
  {
   "cell_type": "code",
   "execution_count": 6,
   "metadata": {},
   "outputs": [
    {
     "data": {
      "text/html": [
       "<div>\n",
       "<style scoped>\n",
       "    .dataframe tbody tr th:only-of-type {\n",
       "        vertical-align: middle;\n",
       "    }\n",
       "\n",
       "    .dataframe tbody tr th {\n",
       "        vertical-align: top;\n",
       "    }\n",
       "\n",
       "    .dataframe thead th {\n",
       "        text-align: right;\n",
       "    }\n",
       "</style>\n",
       "<table border=\"1\" class=\"dataframe\">\n",
       "  <thead>\n",
       "    <tr style=\"text-align: right;\">\n",
       "      <th></th>\n",
       "      <th>author_id</th>\n",
       "      <th>label</th>\n",
       "    </tr>\n",
       "  </thead>\n",
       "  <tbody>\n",
       "    <tr>\n",
       "      <th>0</th>\n",
       "      <td>192</td>\n",
       "      <td>2</td>\n",
       "    </tr>\n",
       "    <tr>\n",
       "      <th>1</th>\n",
       "      <td>226</td>\n",
       "      <td>2</td>\n",
       "    </tr>\n",
       "    <tr>\n",
       "      <th>2</th>\n",
       "      <td>234</td>\n",
       "      <td>3</td>\n",
       "    </tr>\n",
       "    <tr>\n",
       "      <th>3</th>\n",
       "      <td>435</td>\n",
       "      <td>2</td>\n",
       "    </tr>\n",
       "    <tr>\n",
       "      <th>4</th>\n",
       "      <td>444</td>\n",
       "      <td>1</td>\n",
       "    </tr>\n",
       "  </tbody>\n",
       "</table>\n",
       "</div>"
      ],
      "text/plain": [
       "   author_id  label\n",
       "0        192      2\n",
       "1        226      2\n",
       "2        234      3\n",
       "3        435      2\n",
       "4        444      1"
      ]
     },
     "execution_count": 6,
     "metadata": {},
     "output_type": "execute_result"
    }
   ],
   "source": [
    "dataset[0].id_label['author'].head()"
   ]
  },
  {
   "cell_type": "code",
   "execution_count": null,
   "metadata": {},
   "outputs": [],
   "source": []
  },
  {
   "cell_type": "code",
   "execution_count": 18,
   "metadata": {},
   "outputs": [
    {
     "data": {
      "text/plain": [
       "array([ 1.2031   , -0.40028  ,  0.073991 ,  1.0415   ,  0.051753 ,\n",
       "        0.41166  , -0.98656  , -0.79466  ,  0.36033  ,  0.54428  ,\n",
       "        0.29395  ,  0.5747   , -0.5576   , -0.61278  , -0.087423 ,\n",
       "        0.5456   , -0.22013  , -0.0081278, -0.58155  , -0.016229 ,\n",
       "        1.1811   , -0.42891  , -1.0388   , -0.87459  , -0.96912  ,\n",
       "       -0.66649  , -0.23569  , -0.40309  ,  0.36778  , -0.031145 ,\n",
       "        2.1525   ,  0.014425 ,  0.064602 , -0.011762 ,  0.17265  ,\n",
       "       -0.89641  , -0.7655   ,  0.16825  ,  0.04137  , -0.71456  ,\n",
       "        0.38339  , -0.57219  , -0.16915  ,  0.13984  , -0.7743   ,\n",
       "       -0.061819 ,  0.21887  ,  1.3262   , -0.33245  ,  0.8198   ])"
      ]
     },
     "execution_count": 18,
     "metadata": {},
     "output_type": "execute_result"
    }
   ],
   "source": [
    "dataset[0].initial_embeddings['term'][1][1]"
   ]
  },
  {
   "cell_type": "markdown",
   "metadata": {},
   "source": [
    "# Playing with built-in AMiner dataset\n",
    "\n",
    "because apparently it is the only built-in heterogeneous graph in PyG. Oh, life."
   ]
  },
  {
   "cell_type": "code",
   "execution_count": 2,
   "metadata": {},
   "outputs": [
    {
     "name": "stdout",
     "output_type": "stream",
     "text": [
      "#graphs : 1\n"
     ]
    }
   ],
   "source": [
    "aminer = AMiner(root=\"/home/ubuntu/msandal_code/PyG_playground/aminer_pyg\")\n",
    "print(\"#graphs : \" + str(len(aminer)))"
   ]
  },
  {
   "cell_type": "code",
   "execution_count": 3,
   "metadata": {},
   "outputs": [
    {
     "data": {
      "text/plain": [
       "Data(\n",
       "  edge_index_dict={\n",
       "    ('paper', 'written by', 'author')=[2, 9323605],\n",
       "    ('author', 'wrote', 'paper')=[2, 9323605],\n",
       "    ('paper', 'published in', 'venue')=[2, 3194405],\n",
       "    ('venue', 'published', 'paper')=[2, 3194405]\n",
       "  },\n",
       "  num_nodes_dict={\n",
       "    paper=3194405,\n",
       "    author=1693531,\n",
       "    venue=3883\n",
       "  },\n",
       "  y_dict={\n",
       "    author=[246678],\n",
       "    venue=[134]\n",
       "  },\n",
       "  y_index_dict={\n",
       "    author=[246678],\n",
       "    venue=[134]\n",
       "  }\n",
       ")"
      ]
     },
     "execution_count": 3,
     "metadata": {},
     "output_type": "execute_result"
    }
   ],
   "source": [
    "graph = aminer[0]\n",
    "graph"
   ]
  },
  {
   "cell_type": "markdown",
   "metadata": {},
   "source": [
    "It is worth noting here that this structure is no standard in PyG :) But then again, its heterogeneous, so what did I expect..."
   ]
  },
  {
   "cell_type": "code",
   "execution_count": 4,
   "metadata": {},
   "outputs": [
    {
     "data": {
      "text/plain": [
       "tensor([[      0,       0,       0,  ..., 1693528, 1693529, 1693530],\n",
       "        [      0,   45988,  124807,  ..., 3194371, 3194387, 3194389]])"
      ]
     },
     "execution_count": 4,
     "metadata": {},
     "output_type": "execute_result"
    }
   ],
   "source": [
    "graph.edge_index_dict[('author', 'wrote', 'paper')]"
   ]
  },
  {
   "cell_type": "code",
   "execution_count": 5,
   "metadata": {},
   "outputs": [
    {
     "data": {
      "text/plain": [
       "(tensor([      0,       0,       0,  ..., 1693528, 1693529, 1693530]),\n",
       " tensor([      0,   45988,  124807,  ..., 3194371, 3194387, 3194389]),\n",
       " tensor([ 328474, 1564601, 1994989,  ...,  492042, 2681395, 2529168]))"
      ]
     },
     "execution_count": 5,
     "metadata": {},
     "output_type": "execute_result"
    }
   ],
   "source": [
    "negative_author_paper = structured_negative_sampling(graph.edge_index_dict[('author', 'wrote', 'paper')],\n",
    "                                                     num_nodes = graph.num_nodes_dict['paper'])\n",
    "negative_author_paper"
   ]
  },
  {
   "cell_type": "markdown",
   "metadata": {},
   "source": [
    "!!The function is unaware that the nodes are of different types!! But I don't really think it is an issue..."
   ]
  },
  {
   "cell_type": "code",
   "execution_count": 1,
   "metadata": {
    "pycharm": {
     "name": "#%%\n"
    }
   },
   "outputs": [
    {
     "name": "stdout",
     "output_type": "stream",
     "text": [
      "1.0\n",
      "1.0\n"
     ]
    }
   ],
   "source": [
    "# explore NMI ARI permutation invariance\n",
    "from sklearn.metrics.cluster import normalized_mutual_info_score\n",
    "from sklearn.metrics.cluster import adjusted_rand_score\n",
    "import numpy as np\n",
    "\n",
    "labels1 = np.array([0, 0, 1, 1, 3, 3, 2, 2, 2])\n",
    "labels2 = np.array([3, 3, 2, 2, 0, 0, 1, 1, 1])\n",
    "print(normalized_mutual_info_score(labels1, labels2))\n",
    "print(adjusted_rand_score(labels1, labels2))"
   ]
  },
  {
   "cell_type": "code",
   "execution_count": null,
   "metadata": {},
   "outputs": [],
   "source": []
  }
 ],
 "metadata": {
  "kernelspec": {
   "display_name": "Python 3",
   "language": "python",
   "name": "python3"
  },
  "language_info": {
   "codemirror_mode": {
    "name": "ipython",
    "version": 3
   },
   "file_extension": ".py",
   "mimetype": "text/x-python",
   "name": "python",
   "nbconvert_exporter": "python",
   "pygments_lexer": "ipython3",
   "version": "3.7.6"
  }
 },
 "nbformat": 4,
 "nbformat_minor": 4
}
